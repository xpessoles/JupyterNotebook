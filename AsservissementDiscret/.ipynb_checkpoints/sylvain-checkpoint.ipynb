{
 "cells": [
  {
   "cell_type": "markdown",
   "metadata": {},
   "source": [
    "# Mise en situation\n",
    "\n",
    "On s'intéresse à l'asservissement d'un système, quel qu'il soit. Prenons par exemple un des axes robotisé du TIPE de MC dans lequel on doit réaliser un asservissement en position d'un angle. Une étude préliminaire nous a permis d'identifier le comportement du bloc hacheur, moteur, réducteur. Celui-ci peut se modéliser par un système d'ordre 1 : $H(p)=\\dfrac{K_v}{1+T_v p}$ avec $K_v=5$ et $T_v=1\\,\\text{s}$.\n",
    "\n",
    "![Schema blocs](images/im3.PNG)"
   ]
  },
  {
   "cell_type": "code",
   "execution_count": 1,
   "metadata": {},
   "outputs": [],
   "source": [
    "import matplotlib.pyplot as plt\n",
    "Kv = 5\n",
    "Tv = 1  ## Seconde\n",
    "h=0.001 ## Seconde"
   ]
  },
  {
   "cell_type": "markdown",
   "metadata": {},
   "source": [
    "### Préliminaires"
   ]
  },
  {
   "cell_type": "markdown",
   "metadata": {},
   "source": [
    "#### Question 1 : Donner dans le domaine temporel une relation liant $e_v(t)$, $\\varepsilon_v(t)$ et $s_v(t)$."
   ]
  },
  {
   "cell_type": "markdown",
   "metadata": {},
   "source": [
    "#### Réponse 1 on a : $$𝜀𝑣(𝑡) = 𝑒𝑣(𝑡) - 𝑠𝑣(𝑡)$$\n"
   ]
  },
  {
   "cell_type": "markdown",
   "metadata": {},
   "source": [
    "#### Question 2 : Donner dans le domaine temporel une relation liant$s_v(t)$, $\\varepsilon_v(t)$ et leurs dérivées."
   ]
  },
  {
   "cell_type": "markdown",
   "metadata": {},
   "source": [
    "#### Réponse 2\n",
    "$$S_v(p)(1 + T_vp) = K_v\\varepsilon_v(p)$$\n",
    "Donc :\n",
    "$$s_v(t) + T_v\\frac{ds_v(t)}{dt} = K_v\\varepsilon_v(t)$$"
   ]
  },
  {
   "cell_type": "markdown",
   "metadata": {},
   "source": [
    "### Discrétisation du signal\n",
    "On souhaite effectuer une simulation numérique. Le pas de temps est noté $h$. On choisit $h=10^{-3}\\; \\text{s}$.\n",
    "Dans le domaine numérique, on appelle $f_k$ le k-ième échantillon de la fonction $f$ à laquelle on associe la valeur $f(t_k)$ à l'instant $t_k=k \\times h$.\n",
    "On note $f_0=f(0)$. On rappelle que toutes les conditions initiales sont nulles.\n"
   ]
  },
  {
   "cell_type": "markdown",
   "metadata": {},
   "source": [
    "#### Question 3\n",
    "Montrer que dans le domaine numérique :\n",
    " - $\\varepsilon_{vk}=e_{vk}-s_{vk}$;\n",
    " - $s_{vk}=\\dfrac{1}{h+T_v}(T_v s_{vk-1} + K_v h \\varepsilon_{vk})$."
   ]
  },
  {
   "cell_type": "markdown",
   "metadata": {},
   "source": [
    "#### Réponse 3\n",
    "On a :\n",
    " - la première relation valable à tout instant, donc pour tout échantillon\n",
    " - on approxime $T_v\\frac{ds_v(t)}{dt}$ par $\\frac{s_vk  -  s_vk-1}{h}$, donc on obtient :\n",
    " $s_{vk}=\\dfrac{1}{h+T_v}(T_v s_{vk-1} + K_vh\\varepsilon_{vk})$"
   ]
  },
  {
   "cell_type": "markdown",
   "metadata": {},
   "source": [
    "#### Question 4 \n",
    "Implémenter un code Python qui effectue une simulation de l'asservissement en vitesse pour une entrée échelon d'amplitude 2 rad/s. Tracer la réponse simulée $s_v(t)$ et l'écart $\\varepsilon_v(t)$ en fonction du temps $t$ sur un intervalle de 2 secondes."
   ]
  },
  {
   "cell_type": "code",
   "execution_count": 2,
   "metadata": {},
   "outputs": [
    {
     "data": {
      "image/png": "[encoded data removed]",
      "text/plain": [
       "<Figure size 432x288 with 1 Axes>"
      ]
     },
     "metadata": {
      "needs_background": "light"
     },
     "output_type": "display_data"
    }
   ],
   "source": [
    "#Réponse 4\n",
    "def reponse_echelon(T, E) :\n",
    "    les_t = [0] # temps\n",
    "    les_e = [E] # commande\n",
    "    les_epsilon = [0] # écart\n",
    "    les_s = [0] # réponse\n",
    "    t = 0\n",
    "    while t < T :\n",
    "        les_t.append(t)\n",
    "        les_e.append(E)\n",
    "        les_epsilon.append(les_e[-1] - les_s[-1])\n",
    "        les_s.append( ( Tv*les_s[-1] + Kv*h*les_epsilon[-1] ) / ( h + Tv ) )\n",
    "        t+=h\n",
    "    plt.plot(les_t, les_e, label=\"commande\")\n",
    "    plt.plot(les_t, les_epsilon, label=\"écart\")\n",
    "    plt.plot(les_t, les_s, label=\"réponse\")\n",
    "    plt.legend()\n",
    "\n",
    "# éxécution\n",
    "reponse_echelon(2, 2)\n",
    "plt.show()"
   ]
  },
  {
   "cell_type": "markdown",
   "metadata": {},
   "source": [
    "### Mise en place d'un correcteur PI\n",
    "Afin d'avoir un écart statique nul, on place un correcteur PI.\n",
    "![Schema blocs](images/im4.PNG)"
   ]
  },
  {
   "cell_type": "markdown",
   "metadata": {},
   "source": [
    "#### Question 5 \n",
    "Est ce que le correcteur PI peut poser un problème de stabilité dans notre cas d'étude ? Expliquer."
   ]
  },
  {
   "cell_type": "markdown",
   "metadata": {},
   "source": [
    "#### Réponse 5\n",
    "Le correcteur PI diminue fortement la phase pour une certain bande de fréquence, mais au maximum de 90°. Or le premier ordre à une phase minimale de -90°, donc la phase totale reste tout le temps supérieur à -180°, il y a une marge de phase positive et une marge de gain infinie, donc en théorie cela ne change pas la stabilité."
   ]
  },
  {
   "cell_type": "markdown",
   "metadata": {},
   "source": [
    "#### Question 6\n",
    "Déterminer la valeur de $T_i$ qui permet de compenser le pôle dominant la fonction de transfert en boucle ouverte non corrigée."
   ]
  },
  {
   "cell_type": "markdown",
   "metadata": {},
   "source": [
    "#### Réponse 6\n",
    "Avec $T_i = T_v$, le dénominateur $1 + T_vp$ est annulé par $1 + T_ip$"
   ]
  },
  {
   "cell_type": "code",
   "execution_count": 3,
   "metadata": {},
   "outputs": [],
   "source": [
    "Ti = Tv"
   ]
  },
  {
   "cell_type": "markdown",
   "metadata": {},
   "source": [
    "#### Question 7\n",
    "Déterminer la valeur de $K_p$ qui donne un temps de réponse théorique de $T_{r5\\%}=0,15$ s."
   ]
  },
  {
   "cell_type": "markdown",
   "metadata": {},
   "source": [
    "#### Réponse 7\n",
    "Après simplification, on a : $$S_v(p) = \\frac{1}{1 + \\frac{T_vp}{K_vK_p}}\\varepsilon_v(p)$$\n",
    "\n",
    "Donc on résout on a $T_{r5\\%} = 3\\frac{T_v}{K_vK_p}$ donc $K_p = 3\\frac{T_v}{K_vT_{r5\\%}}$"
   ]
  },
  {
   "cell_type": "code",
   "execution_count": 4,
   "metadata": {},
   "outputs": [
    {
     "name": "stdout",
     "output_type": "stream",
     "text": [
      "0.09\n"
     ]
    }
   ],
   "source": [
    "T_r5 = 0.15\n",
    "Kp = 3*(Tv / Kv*T_r5)\n",
    "print(Kp)"
   ]
  },
  {
   "cell_type": "markdown",
   "metadata": {},
   "source": [
    "#### Question 8\n",
    "Donner l'expression de $c_v(t)$ en fonction de $\\varepsilon_v(t)$."
   ]
  },
  {
   "cell_type": "markdown",
   "metadata": {},
   "source": [
    "#### Réponse 8\n",
    "On a : $$C_v(p) = K_p(1+\\frac{1}{T_ip})\\varepsilon_v(p)$$\n",
    "\n",
    "Donc : $$T_i\\frac{dc_v(t)}{dt} = K_pT_i\\frac{d\\varepsilon_v(t)}{dt} + K_p\\varepsilon_v(t)$$\n",
    "\n",
    "Donc : $$c_v(t) = K_p\\varepsilon_v(t) + \\frac{K_p}{T_i}\\int_{0}^{t}\\varepsilon_v(t)dt$$"
   ]
  },
  {
   "cell_type": "markdown",
   "metadata": {},
   "source": [
    "#### Question 9\n",
    "Proposer alors un schéma numérique exprimant $c_{vk}$ en fonction de $\\varepsilon_{vk}$ et de ces prédécesseurs en appliquant la méthode d'intégration des rectangles à droite."
   ]
  },
  {
   "cell_type": "markdown",
   "metadata": {},
   "source": [
    "#### Réponse 9\n",
    "On a : $$c_{vk} = K_p\\varepsilon_{vk} + \\frac{K_p}{T_i}\\sum_{i=0}^k h\\varepsilon_{vi}$$"
   ]
  },
  {
   "cell_type": "markdown",
   "metadata": {},
   "source": [
    "#### Question 10\n",
    "Après avoir exprimé $c_{vk-1}$ en fonction de $\\varepsilon_{vk-1}$ et de ces prédécesseurs, montrer que l'on peut aboutir à la relation de récurrence suivante :\n",
    "$c_{vk}  = c_{vk - 1}  + K_p \\left( \\varepsilon _{vk} \\left( 1 + \\dfrac{h}{T_i} \\right) - \\varepsilon _{vk - 1}  \\right)$."
   ]
  },
  {
   "cell_type": "markdown",
   "metadata": {},
   "source": [
    "#### Réponse 10\n",
    "On a : $$c_{vk-1} = K_p\\varepsilon_{vk-1} + \\frac{K_p}{T_i}\\sum_{i=0}^{k-1} h\\varepsilon_{vi}$$\n",
    "\n",
    "Donc : $$c_{vk} - c_{vk-1} = K_p(\\varepsilon_{vk} - \\varepsilon_{vk-1}) + \\frac{K_p}{T_i}(\\sum_{i=0}^{k} h\\varepsilon_{vi} - \\sum_{i=0}^{k-1} h\\varepsilon_{vi})$$\n",
    "\n",
    "Après simplification : $$c_{vk}  = c_{vk - 1}  + K_p \\left( \\varepsilon _{vk} \\left( 1 + \\dfrac{h}{T_i} \\right) - \\varepsilon _{vk - 1}  \\right)$$"
   ]
  },
  {
   "cell_type": "markdown",
   "metadata": {},
   "source": [
    "\n",
    "\n",
    "#### Question 11\n",
    "Implémenter un code Python qui effectue une simulation de l'asservissement en vitesse avec correction PI pour une entrée échelon d'amplitude 2 rad/s."
   ]
  },
  {
   "cell_type": "code",
   "execution_count": 7,
   "metadata": {},
   "outputs": [],
   "source": [
    "#Réponse 11\n",
    "def reponse_echelon_PI(T, E) :\n",
    "    les_t = [0] # temps\n",
    "    les_e = [E] # commande\n",
    "    les_epsilon = [0] # écart\n",
    "    les_cv = [0] # Cv\n",
    "    les_s = [0] # réponse\n",
    "    t = 0\n",
    "    while t < T :\n",
    "        les_t.append(t)\n",
    "        les_e.append(E)\n",
    "        les_epsilon.append(les_e[-1] - les_s[-1])\n",
    "        les_cv.append( les_cv[-1] + Kp*( les_epsilon[-1]*(1 + h/Ti) - les_epsilon[-2] ) )\n",
    "        les_s.append( ( Tv*les_s[-1] + Kv*h*les_cv[-1] ) / ( h + Tv ) )\n",
    "        t+=h\n",
    "    plt.plot(les_t, les_e, label=\"commande\")\n",
    "    plt.plot(les_t, les_epsilon, label=\"écart\")\n",
    "    plt.plot(les_t, les_cv, label=\"sortie du correcteur\")\n",
    "    plt.plot(les_t, les_s, label=\"réponse\")\n",
    "    plt.legend()"
   ]
  },
  {
   "cell_type": "markdown",
   "metadata": {},
   "source": [
    "#### Question 12\n",
    "Tracer la réponse simulée $s_v(t)$ en fonction du temps $t$."
   ]
  },
  {
   "cell_type": "code",
   "execution_count": 8,
   "metadata": {},
   "outputs": [
    {
     "data": {
      "image/png": "[encoded data removed]",
      "text/plain": [
       "<Figure size 432x288 with 1 Axes>"
      ]
     },
     "metadata": {
      "needs_background": "light"
     },
     "output_type": "display_data"
    }
   ],
   "source": [
    "## Réponse 12\n",
    "reponse_echelon_PI(10, 2)\n",
    "plt.show()"
   ]
  },
  {
   "cell_type": "markdown",
   "metadata": {},
   "source": [
    "#### Question 13\n",
    "Conclure quant au réglage de votre correcteur."
   ]
  },
  {
   "cell_type": "markdown",
   "metadata": {},
   "source": [
    "#### Réponse 13\n",
    "Le système n'a plus d'écart statique, mais est beaucoup plus lent"
   ]
  }
 ],
 "metadata": {
  "kernelspec": {
   "display_name": "Python 3",
   "language": "python",
   "name": "python3"
  },
  "language_info": {
   "codemirror_mode": {
    "name": "ipython",
    "version": 3
   },
   "file_extension": ".py",
   "mimetype": "text/x-python",
   "name": "python",
   "nbconvert_exporter": "python",
   "pygments_lexer": "ipython3",
   "version": "3.7.4"
  }
 },
 "nbformat": 4,
 "nbformat_minor": 2
}
