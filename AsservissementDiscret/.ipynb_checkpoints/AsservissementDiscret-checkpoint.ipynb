{
 "cells": [
  {
   "cell_type": "markdown",
   "metadata": {},
   "source": [
    "# Mise en situation\n",
    "\n",
    "On s'intéresse à l'asservissement d'un système, quel qu'il soit. Prenons par exemple un des axes robotisé du TIPE de MC dans lequel on doit réaliser un asservissement en position d'un angle. Une étude préliminaire nous a permis d'identifier le comportement du bloc hacheur, moteur, réducteur. Celui-ci peut se modéliser par un système d'ordre 1 : $H(p)=\\dfrac{K_v}{1+T_v p}$ avec $K_v=5$ et $T_v=1\\,\\text{s}$.\n",
    "\n",
    "![Schema blocs](images/im3.PNG)"
   ]
  },
  {
   "cell_type": "code",
   "execution_count": 1,
   "metadata": {},
   "outputs": [],
   "source": [
    "import matplotlib.pyplot as plt\n",
    "Kv = 5\n",
    "Tv = 1  ## Seconde\n",
    "h=0.001 ## Seconde"
   ]
  },
  {
   "cell_type": "markdown",
   "metadata": {},
   "source": [
    "### Préliminaires"
   ]
  },
  {
   "cell_type": "markdown",
   "metadata": {},
   "source": [
    "#### Question 1 : Donner dans le domaine temporel une relation liant $e_v(t)$, $\\varepsilon_v(t)$ et $s_v(t)$."
   ]
  },
  {
   "cell_type": "markdown",
   "metadata": {},
   "source": [
    "#### Réponse 1\n",
    "On a  $\\varepsilon_v(t) = e_v(t) - s_v(t)$."
   ]
  },
  {
   "cell_type": "markdown",
   "metadata": {},
   "source": [
    "#### Question 2 : Donner dans le domaine temporel une relation liant$s_v(t)$, $\\varepsilon_v(t)$ et leurs dérivées."
   ]
  },
  {
   "cell_type": "markdown",
   "metadata": {},
   "source": [
    "#### Réponse 2\n",
    "On a $S_v(p)=\\dfrac{K_v}{1+T_vp}\\varepsilon_v(p)$ $\\Leftrightarrow S_v(p)+S_v(p) T_v p= K_v \\varepsilon_v(p) $ soit \n",
    "$\\Leftrightarrow s_v(t)+ T_v \\dfrac{\\text{d} s_v(t)}{\\text{d} t}= K_v \\varepsilon_v(t) $."
   ]
  },
  {
   "cell_type": "markdown",
   "metadata": {},
   "source": [
    "### Discrétisation du signal\n",
    "On souhaite effectuer une simulation numérique. Le pas de temps est noté $h$. On choisit $h=10^{-3}\\; \\text{s}$.\n",
    "Dans le domaine numérique, on appelle $f_k$ le k-ième échantillon de la fonction $f$ à laquelle on associe la valeur $f(t_k)$ à l'instant $t_k=k \\times h$.\n",
    "On note $f_0=f(0)$. On rappelle que toutes les conditions initiales sont nulles.\n"
   ]
  },
  {
   "cell_type": "markdown",
   "metadata": {},
   "source": [
    "#### Question 3\n",
    "Montrer que dans le domaine numérique :\n",
    " - $\\varepsilon_{vk}=e_{vk}-s_{vk}$;\n",
    " - $s_{vk}=\\dfrac{1}{h+T_v}(T_v s_{vk-1} + K_v h \\varepsilon_{vk})$.\n"
   ]
  },
  {
   "cell_type": "markdown",
   "metadata": {},
   "source": [
    "#### Réponse 3\n",
    "À l'instant $t_k$, $\\varepsilon_v(t_k) = e_v(t_k) - s_v(t_k)$ soit $\\varepsilon_{vk} = e_{vk} - s_{vk}$.\n",
    "\n",
    "De plus, on a $\\dfrac{\\text{d} s_v(t)}{\\text{d} t}\\simeq \\dfrac{s_v(t)-s_v(t-h)}{h} = \\dfrac{s_{v_k}-s_{v_{k-1}}}{h}$. En réutilisant la question 2, on a donc \n",
    "$s_{vk}+ T_v \\dfrac{s_{v_k}-s_{v_{k-1}}}{h}= K_v \\varepsilon_{vk} $ \n",
    "$ \\Leftrightarrow s_{vk}+ T_v \\dfrac{s_{v_k}}{h} - T_v \\dfrac{s_{v_{k-1}}}{h} = K_v \\varepsilon_{vk} $ \n",
    "$ \\Leftrightarrow s_{vk}\\left( 1+\\dfrac{T_v}{h} \\right) = K_v \\varepsilon_{vk} + T_v \\dfrac{s_{v_{k-1}}}{h}$\n",
    "$ \\Leftrightarrow s_{vk} = \\dfrac{1}{1+\\dfrac{T_v}{h} }\\left( K_v\\varepsilon_{vk} + T_v \\dfrac{s_{v_{k-1}}}{h} \\right)$\n",
    "$ \\Leftrightarrow s_{vk} = \\dfrac{1}{h+{T_v}}\\left(  hK_v\\varepsilon_{vk} + T_v s_{v_{k-1}} \\right)$."
   ]
  },
  {
   "cell_type": "markdown",
   "metadata": {},
   "source": [
    "#### Question 4 \n",
    "Implémenter un code Python qui effectue une simulation de l'asservissement en vitesse pour une entrée échelon d'amplitude 2 rad/s. Tracer la réponse simulée $s_v(t)$ et l'écart $\\varepsilon_v(t)$ en fonction du temps $t$ sur un intervalle de 2 secondes."
   ]
  },
  {
   "cell_type": "code",
   "execution_count": 2,
   "metadata": {},
   "outputs": [],
   "source": [
    "#Réponse 4\n",
    "les_t   = [0]\n",
    "les_sv  = [0]\n",
    "les_eps = [2]\n",
    "les_ev  = [2]\n",
    "t=h\n",
    "while t<2:\n",
    "    les_t.append(t)\n",
    "    les_eps.append(les_ev[-1]-les_sv[-1])\n",
    "    les_sv.append((1/(h+Tv))*(h*Kv*les_eps[-1]+Tv*les_sv[-1]))\n",
    "    t=t+h"
   ]
  },
  {
   "cell_type": "code",
   "execution_count": 3,
   "metadata": {},
   "outputs": [
    {
     "data": {
      "image/png": "[encoded data removed]",
      "text/plain": [
       "<Figure size 432x288 with 1 Axes>"
      ]
     },
     "metadata": {
      "needs_background": "light"
     },
     "output_type": "display_data"
    }
   ],
   "source": [
    "plt.plot(les_t,les_sv,label=\"$s_v$\")\n",
    "plt.plot(les_t,les_eps,label=\"$\\\\epsilon_v$\")\n",
    "plt.xlabel(\"Temps [s]\")\n",
    "plt.ylabel(\"Taux de rotation [$rad\\cdot s^{-1}$]\")\n",
    "plt.legend()\n",
    "plt.show()"
   ]
  },
  {
   "cell_type": "markdown",
   "metadata": {},
   "source": [
    "### Mise en place d'un correcteur PI\n",
    "Afin d'avoir un écart statique nul, on place un correcteur PI.\n",
    "![Schema blocs](images/im4.PNG)"
   ]
  },
  {
   "cell_type": "markdown",
   "metadata": {},
   "source": [
    "#### Question 5 \n",
    "Est ce que le correcteur PI peut poser un problème de stabilité dans notre cas d'étude ? Expliquer."
   ]
  },
  {
   "cell_type": "markdown",
   "metadata": {},
   "source": [
    "#### Réponse 5\n",
    "La FTBO est un système du premier ordre. Le déphasage minimal est de -90°. Dans le pire des cas, le correcteur ajoute un déphasage de -90°. La phase du système en boucle ouverte sera donc toujours supérieure à -180°. La marge de gain est donc infinie et la marge de phase est donc toujours positive. Le système est donc stable. Cependant, la marge de phase peut être faible.\n",
    "**Il n'y aura donc pas de problème d'instabilité dans notre cas.**"
   ]
  },
  {
   "cell_type": "markdown",
   "metadata": {},
   "source": [
    "#### Question 6\n",
    "Déterminer la valeur de $T_i$ qui permet de compenser le pôle dominant la fonction de transfert en boucle ouverte non corrigée."
   ]
  },
  {
   "cell_type": "markdown",
   "metadata": {},
   "source": [
    "#### Réponse 6\n",
    "Le correcteur est de la forme $C(p)=K_p\\left(1+\\dfrac{1}{T_i p}\\right)$. On a donc $C(p)=K_p\\dfrac{T_i p +1}{T_i p}$. $T_i=T_v=1\\,\\text{s}$ permet donc de compenser le pole $-\\dfrac{1}{T_v}$."
   ]
  },
  {
   "cell_type": "code",
   "execution_count": 4,
   "metadata": {},
   "outputs": [],
   "source": [
    "# Réponse 6\n",
    "Ti=Tv"
   ]
  },
  {
   "cell_type": "markdown",
   "metadata": {},
   "source": [
    "#### Question 7\n",
    "Déterminer la valeur de $K_p$ qui donne un temps de réponse théorique de $T_{r5\\%}=0,15$ s."
   ]
  },
  {
   "cell_type": "markdown",
   "metadata": {},
   "source": [
    "#### Réponse 7\n",
    "La fonction en BO est donc donnée par $FTBO(p)=K_p\\dfrac{T_i p +1}{T_i p} \\cdot \\dfrac{K_v}{1+T_v p} =K_p\\dfrac{K_v}{T_i p}$. La fonction en boucle fermée est donc donnée par $FTBF(p)=\\dfrac{K_pK_v}{T_i p+K_pK_v}$ $=\\dfrac{\\dfrac{K_pK_v}{K_pK_v}}{\\dfrac{T_i}{K_pK_v} p+1}$ $=\\dfrac{1}{\\dfrac{T_i}{K_pK_v} p+1}$. On doit donc avoir $3 \\dfrac{T_i}{K_pK_v} = 0,15$ soit $ {K_p} = \\dfrac{3 T_i }{0,15 K_v }$."
   ]
  },
  {
   "cell_type": "code",
   "execution_count": 5,
   "metadata": {},
   "outputs": [],
   "source": [
    "# Réponse 7\n",
    "Kp=(3*Ti)/(0.15*Kv)"
   ]
  },
  {
   "cell_type": "markdown",
   "metadata": {},
   "source": [
    "#### Question 8\n",
    "Donner l'expression de $c_v(t)$ en fonction de $\\varepsilon_v(t)$."
   ]
  },
  {
   "cell_type": "markdown",
   "metadata": {},
   "source": [
    "#### Réponse 8\n",
    "On a $C_v(p)=K_p\\dfrac{T_i p +1}{T_i p}\\varepsilon_v(p)$ soit  $C_v(p)=K_p \\varepsilon_v(p)+K_p\\dfrac{\\varepsilon_v(p)}{T_i p}$. On a donc $c_v(t)=K_p \\varepsilon_v(t)+\\dfrac{K_p}{T_i} \\int_0^t \\varepsilon_v(t)\\text{d}t$."
   ]
  },
  {
   "cell_type": "markdown",
   "metadata": {},
   "source": [
    "#### Question 9\n",
    "Proposer alors un schéma numérique exprimant $c_{vk}$ en fonction de $\\varepsilon_{vk}$ et de ces prédécesseurs en appliquant la méthode d'intégration des rectangles à droite."
   ]
  },
  {
   "cell_type": "markdown",
   "metadata": {},
   "source": [
    "#### Réponse 9\n",
    "0n a $c_{vk}=K_p \\varepsilon_{vk}+\\dfrac{K_p h}{T_i} \\sum\\limits_{i=1}^{k}  \\varepsilon_{vi}$."
   ]
  },
  {
   "cell_type": "markdown",
   "metadata": {},
   "source": [
    "#### Question 10\n",
    "Après avoir exprimé $c_{vk-1}$ en fonction de $\\varepsilon_{vk-1}$ et de ces prédécesseurs, montrer que l'on peut aboutir à la relation de récurrence suivante :\n",
    "$c_{vk}  = c_{vk - 1}  + K_p \\left( \\varepsilon _{vk} \\left( 1 + \\dfrac{h}{T_i} \\right) - \\varepsilon _{vk - 1}  \\right)$."
   ]
  },
  {
   "cell_type": "markdown",
   "metadata": {},
   "source": [
    "#### Réponse 10\n",
    "\n",
    "D'après la question précédente, $c_{vk-1}=K_p \\varepsilon_{vk-1}+\\dfrac{K_p h}{T_i} \\sum\\limits_{i=1}^{k-1}  \\varepsilon_{vi}$. \n",
    "\n",
    "\n",
    "On a $c_{vk}=K_p \\varepsilon_{vk}+\\dfrac{K_p h}{T_i} \\sum\\limits_{i=1}^{k}  \\varepsilon_{vi}$\n",
    "$=K_p \\varepsilon_{vk}+\\dfrac{K_p h}{T_i} \\sum\\limits_{i=1}^{k-1}  \\varepsilon_{vi}+\\dfrac{K_p h}{T_i} \\varepsilon_{vk}$\n",
    "$=K_p \\varepsilon_{vk}+ c_{vk-1}-K_p \\varepsilon_{vk-1} +\\dfrac{K_p h}{T_i} \\varepsilon_{vk}$.\n",
    "\n",
    "On a donc : $c_{vk} =c_{vk-1} + K_p\\left( \\varepsilon_{vk}\\left(1+ \\dfrac{h}{T_i} \\right) - \\varepsilon_{vk-1}\\right)$.\n",
    "\n"
   ]
  },
  {
   "cell_type": "markdown",
   "metadata": {},
   "source": [
    "\n",
    "\n",
    "#### Question 11\n",
    "Implémenter un code Python qui effectue une simulation de l'asservissement en vitesse avec correction PI pour une entrée échelon d'amplitude 2 rad/s."
   ]
  },
  {
   "cell_type": "code",
   "execution_count": 6,
   "metadata": {},
   "outputs": [
    {
     "name": "stdout",
     "output_type": "stream",
     "text": [
      "4.0 1\n"
     ]
    }
   ],
   "source": [
    "#Réponse 11\n",
    "les_t_pi   = [0]\n",
    "les_sv_pi  = [0]\n",
    "les_eps_pi = [0]\n",
    "les_ev_pi  = [2]\n",
    "les_cv_pi  = [0]\n",
    "t=h\n",
    "print(Kp,Ti)\n",
    "while t<2:\n",
    "    les_t_pi.append(t)\n",
    "    les_eps_pi.append(les_ev_pi[-1]-les_sv_pi[-1])\n",
    "    les_cv_pi.append(les_cv_pi[-1]+Kp*(les_eps_pi[-1]*(1+h/Ti)-les_eps_pi[-2]))\n",
    "    les_sv_pi.append((1/(h+Tv))*(h*Kv*les_cv_pi[-1]+Tv*les_sv_pi[-1]))\n",
    "    t=t+h"
   ]
  },
  {
   "cell_type": "markdown",
   "metadata": {},
   "source": [
    "#### Question 12\n",
    "Tracer la réponse simulée $s_v(t)$ en fonction du temps $t$."
   ]
  },
  {
   "cell_type": "code",
   "execution_count": 7,
   "metadata": {},
   "outputs": [
    {
     "data": {
      "image/png": "[encoded data removed]",
      "text/plain": [
       "<Figure size 432x288 with 1 Axes>"
      ]
     },
     "metadata": {
      "needs_background": "light"
     },
     "output_type": "display_data"
    }
   ],
   "source": [
    "## Réponse 12\n",
    "plt.plot(les_t,les_sv,label=\"$s_v$\")\n",
    "plt.plot(les_t_pi[1:],les_eps_pi[1:],label=\"$\\\\epsilon_v$ - PI\")\n",
    "plt.plot(les_t_pi[1:],les_cv_pi[1:],label=\"$c_v(t)$\")\n",
    "\n",
    "plt.plot(les_t[1:],les_eps[1:],label=\"$\\\\epsilon_v$ - NC\")\n",
    "plt.plot(les_t[1:],les_sv[1:],label=\"$s_v$ - NC\")\n",
    "\n",
    "plt.xlabel(\"Temps [s]\")\n",
    "plt.ylabel(\"Taux de rotation [$rad\\cdot s^{-1}$]\")\n",
    "plt.legend()\n",
    "plt.show()"
   ]
  },
  {
   "cell_type": "markdown",
   "metadata": {},
   "source": [
    "#### Question 13\n",
    "Conclure quant au réglage de votre correcteur."
   ]
  },
  {
   "cell_type": "markdown",
   "metadata": {},
   "source": [
    "#### Réponse 13\n",
    "Ben, il est bien réglé, on a tout fait pour !"
   ]
  },
  {
   "cell_type": "markdown",
   "metadata": {},
   "source": [
    "### Asservissement de position angulaire\n",
    "\n",
    "On souhaite maintenant réaliser un asservissement en position du système précédent. Le cahier des charges est le suivant : \n",
    " - écart statique nul;\n",
    " - écart de trainage inférieur à 1°;\n",
    " - marge de phase supérieure à 40°;\n",
    " - marge de gain supérieure à 10 dB;\n",
    " - premier dépassement relatif inférieur à 30%;\n",
    " - temps de réponse à 5% inférieur à 0,5 s.\n",
    " \n",
    "Dans le domaine symbolique de Laplace, le schéma bloc mathématiquement équivalent est le suivant.\n",
    "\n",
    "![Schema blocs](images/im5.PNG)\n",
    "\n",
    "On prend $K_{\\theta}=1$ (rad/s)/rad.\n",
    "\n",
    "On conserve à l'identique la boucle de vitesse précédente.\n"
   ]
  },
  {
   "cell_type": "markdown",
   "metadata": {},
   "source": [
    "#### Question 14\n",
    "Donner l'expression de $s_{\\theta}(t)$ en fonction de $s_v(t)$."
   ]
  },
  {
   "cell_type": "code",
   "execution_count": null,
   "metadata": {},
   "outputs": [],
   "source": []
  },
  {
   "cell_type": "markdown",
   "metadata": {},
   "source": [
    "#### Question 15\n",
    "Proposer alors un schéma numérique exprimant $s_{\\theta k}$ en fonction de $s_{vk}$ et de ces prédécesseurs en appliquant la méthode d'intégration des rectangles à droite."
   ]
  },
  {
   "cell_type": "code",
   "execution_count": null,
   "metadata": {},
   "outputs": [],
   "source": []
  },
  {
   "cell_type": "markdown",
   "metadata": {},
   "source": [
    "#### Question 16\n",
    "Montrer que l'on peut écrire la relation de récurrence suivante :\n",
    "$s_{\\theta k}  = s_{\\theta k-1}  + h s_{vk}$."
   ]
  },
  {
   "cell_type": "code",
   "execution_count": null,
   "metadata": {},
   "outputs": [],
   "source": []
  },
  {
   "cell_type": "markdown",
   "metadata": {},
   "source": [
    "#### Question 17\n",
    "Implémenter un code Python qui effectue une simulation de l'asservissement en position sans correction pour une entrée échelon d'amplitude 1 rad."
   ]
  },
  {
   "cell_type": "code",
   "execution_count": null,
   "metadata": {},
   "outputs": [],
   "source": []
  },
  {
   "cell_type": "markdown",
   "metadata": {},
   "source": [
    "#### Question 18\n",
    "Tracer la réponse simulée $s_{\\theta}(t)$ en fonction du temps $t$."
   ]
  },
  {
   "cell_type": "code",
   "execution_count": null,
   "metadata": {},
   "outputs": [],
   "source": []
  },
  {
   "cell_type": "markdown",
   "metadata": {},
   "source": [
    "#### Question 19\n",
    "Le cahier des charges est-il satisfait ?"
   ]
  },
  {
   "cell_type": "code",
   "execution_count": null,
   "metadata": {},
   "outputs": [],
   "source": []
  },
  {
   "cell_type": "markdown",
   "metadata": {},
   "source": [
    "#### Question 20\n",
    "Déterminer la fonction de transfert en boucle fermée."
   ]
  },
  {
   "cell_type": "code",
   "execution_count": null,
   "metadata": {},
   "outputs": [],
   "source": []
  },
  {
   "cell_type": "markdown",
   "metadata": {},
   "source": [
    "#### Question 21\n",
    "Quelle est la valeur du coefficient d'amortissement qui permet d'avoir un premier dépassement relatif de 5\\% ?\n",
    "![Abaque](images/im7.PNG)\n"
   ]
  },
  {
   "cell_type": "markdown",
   "metadata": {},
   "source": [
    "#### Question 22\n",
    "Déterminer la valeur de $K_\\theta$ correspondante."
   ]
  },
  {
   "cell_type": "code",
   "execution_count": null,
   "metadata": {},
   "outputs": [],
   "source": []
  },
  {
   "cell_type": "markdown",
   "metadata": {},
   "source": [
    "#### Question 23\n",
    "Quel est alors le temps de réponse ?"
   ]
  },
  {
   "cell_type": "code",
   "execution_count": null,
   "metadata": {},
   "outputs": [],
   "source": []
  },
  {
   "cell_type": "markdown",
   "metadata": {},
   "source": [
    "On donne ci-après le diagramme de Bode de la fonction en boucle ouverte non corrigée ($K_\\theta=1$ (rad/s)/rad).\n",
    "![BO non corrigée](images/im6.PNG)"
   ]
  },
  {
   "cell_type": "markdown",
   "metadata": {},
   "source": [
    "#### Question 24\n",
    "Retracer ce diagramme de Bode dans Python."
   ]
  },
  {
   "cell_type": "code",
   "execution_count": null,
   "metadata": {},
   "outputs": [],
   "source": []
  },
  {
   "cell_type": "markdown",
   "metadata": {},
   "source": [
    "#### Question 25\n",
    "Vérifier que pour la valeur de $K_\\theta=10$ (rad/s)/rad, les marges de stabilité sont respectées."
   ]
  },
  {
   "cell_type": "code",
   "execution_count": null,
   "metadata": {},
   "outputs": [],
   "source": []
  },
  {
   "cell_type": "markdown",
   "metadata": {},
   "source": [
    "#### Question 26\n",
    "Effectuer une simulation de l'asservissement en position avec la correction proportionnelle $K_\\theta=10$ (rad/s)/rad, pour une entrée échelon d'amplitude 1 rad."
   ]
  },
  {
   "cell_type": "code",
   "execution_count": null,
   "metadata": {},
   "outputs": [],
   "source": []
  },
  {
   "cell_type": "markdown",
   "metadata": {},
   "source": [
    "#### Question 27\n",
    "Tracer la réponse simulée $s_{\\theta}(t)$ en fonction du temps $t$."
   ]
  },
  {
   "cell_type": "code",
   "execution_count": null,
   "metadata": {},
   "outputs": [],
   "source": []
  },
  {
   "cell_type": "markdown",
   "metadata": {},
   "source": [
    "#### Question 28\n",
    "Le cahier des charges est-il respecté ?"
   ]
  },
  {
   "cell_type": "code",
   "execution_count": null,
   "metadata": {},
   "outputs": [],
   "source": []
  },
  {
   "cell_type": "markdown",
   "metadata": {},
   "source": [
    "#### Question 29\n",
    "Effectuer une simulation de l'asservissement en position avec la correction proportionnelle $K_\\theta=10$ (rad/s)/rad, pour une entrée en rampe de pente 1 rad/s."
   ]
  },
  {
   "cell_type": "code",
   "execution_count": null,
   "metadata": {},
   "outputs": [],
   "source": []
  },
  {
   "cell_type": "markdown",
   "metadata": {},
   "source": [
    "#### Question 30\n",
    "Tracer la réponse simulée $s_{\\theta}(t)$ en fonction du temps $t$."
   ]
  },
  {
   "cell_type": "code",
   "execution_count": null,
   "metadata": {},
   "outputs": [],
   "source": []
  },
  {
   "cell_type": "markdown",
   "metadata": {},
   "source": [
    "#### Question 31\n",
    "Le cahier des charges est-il respecté ?"
   ]
  },
  {
   "cell_type": "code",
   "execution_count": null,
   "metadata": {},
   "outputs": [],
   "source": []
  },
  {
   "cell_type": "markdown",
   "metadata": {},
   "source": [
    "#### Question 32\n",
    "Montrer que l'erreur de traînage pour une entrée en rampe de pente 1 rad/s est donnée par $\\varepsilon_t=\\dfrac{1}{K_\\theta}$. Déterminer alors la valeur de $K_\\theta$ permettant de satisfaire l'exigence $\\varepsilon_t=1^o$."
   ]
  },
  {
   "cell_type": "code",
   "execution_count": null,
   "metadata": {},
   "outputs": [],
   "source": []
  },
  {
   "cell_type": "markdown",
   "metadata": {},
   "source": [
    "#### Question 33\n",
    "On prend $K_\\theta=57$ (rad/s)/rad afin de satisfaire le critère de précision de l'erreur de traînage. Les marges de stabilité sont-elles respectées ?"
   ]
  },
  {
   "cell_type": "code",
   "execution_count": null,
   "metadata": {},
   "outputs": [],
   "source": []
  },
  {
   "cell_type": "markdown",
   "metadata": {},
   "source": [
    "#### Question 34\n",
    "Effectuer une simulation de l'asservissement en position avec la correction proportionnelle $K_\\theta=53$ (rad/s)/rad, pour une entrée échelon d'amplitude 1 rad, puis pour une entrée en rampe de pente 1 rad/s."
   ]
  },
  {
   "cell_type": "code",
   "execution_count": null,
   "metadata": {},
   "outputs": [],
   "source": []
  },
  {
   "cell_type": "markdown",
   "metadata": {},
   "source": [
    "#### Question 35\n",
    "Tracer les réponses simulées $s_{\\theta}(t)$ en fonction du temps $t$."
   ]
  },
  {
   "cell_type": "code",
   "execution_count": null,
   "metadata": {},
   "outputs": [],
   "source": []
  },
  {
   "cell_type": "markdown",
   "metadata": {},
   "source": [
    "#### Question 36\n",
    "Le cahier des charges est-il respecté ?"
   ]
  },
  {
   "cell_type": "code",
   "execution_count": null,
   "metadata": {},
   "outputs": [],
   "source": []
  },
  {
   "cell_type": "markdown",
   "metadata": {},
   "source": [
    "On adopte une correction par avance de phase : \n",
    "![Avance de phase](images/im8.PNG)\n"
   ]
  },
  {
   "cell_type": "markdown",
   "metadata": {},
   "source": [
    "#### Question 37\n",
    "Avec $K_\\theta=57$, quelle est la valeur de la phase $\\phi_m$ à apporter au voisinage de la pulsation $\\omega_m$ pour laquelle le gain est nul, pour respecter la marge de phase de 40° ?"
   ]
  },
  {
   "cell_type": "code",
   "execution_count": null,
   "metadata": {},
   "outputs": [],
   "source": []
  },
  {
   "cell_type": "markdown",
   "metadata": {},
   "source": [
    "#### Question 38\n",
    "En déduire alors la valeur de $a$ (on rappelle que $a = \\dfrac{{1 + \\sin \\phi _m }}{{1 - \\sin \\phi _m }}$)."
   ]
  },
  {
   "cell_type": "code",
   "execution_count": null,
   "metadata": {},
   "outputs": [],
   "source": []
  },
  {
   "cell_type": "markdown",
   "metadata": {},
   "source": [
    "#### Question 39\n",
    "Déterminer alors la valeur de $T$ sachant que $\\omega_m=\\dfrac{1}{T \\sqrt{a}}$."
   ]
  },
  {
   "cell_type": "code",
   "execution_count": null,
   "metadata": {},
   "outputs": [],
   "source": []
  },
  {
   "cell_type": "markdown",
   "metadata": {},
   "source": [
    "#### Question 40\n",
    "Donner dans le domaine temporel une relation liant $e_v(t)$ et $\\varepsilon_\\theta$ et leurs dérivées."
   ]
  },
  {
   "cell_type": "code",
   "execution_count": null,
   "metadata": {},
   "outputs": [],
   "source": []
  },
  {
   "cell_type": "markdown",
   "metadata": {},
   "source": [
    "#### Question 41\n",
    "Montrer que dans le domaine numérique, on peut donner la relation de récurrence suivante :\n",
    "$e_{vk}=\\dfrac{T}{h+T} e_{vk-1}+\\dfrac{K_\\theta}{h+T}((h+aT) \\varepsilon_{\\theta k}-aT \\varepsilon_{\\theta k-1})$."
   ]
  },
  {
   "cell_type": "code",
   "execution_count": null,
   "metadata": {},
   "outputs": [],
   "source": []
  },
  {
   "cell_type": "markdown",
   "metadata": {},
   "source": [
    "On donne pour la suite $K_\\theta=57$, $a=1,42$ et $T=0,028$."
   ]
  },
  {
   "cell_type": "markdown",
   "metadata": {},
   "source": [
    "#### Question 42\n",
    "Effectuer une simulation de l'asservissement en position avec la correction par avance de phase, pour une entrée échelon d'amplitude 1 rad, puis pour une entrée en rampe de pente 1 rad/s."
   ]
  },
  {
   "cell_type": "code",
   "execution_count": null,
   "metadata": {},
   "outputs": [],
   "source": []
  },
  {
   "cell_type": "markdown",
   "metadata": {},
   "source": [
    "#### Question 43\n",
    "Tracer les réponses simulées $s_{\\theta}(t)$ en fonction du temps $t$."
   ]
  },
  {
   "cell_type": "code",
   "execution_count": null,
   "metadata": {},
   "outputs": [],
   "source": []
  },
  {
   "cell_type": "markdown",
   "metadata": {},
   "source": [
    "#### Question 44\n",
    "Le cahier des charges est-il respecté ?"
   ]
  },
  {
   "cell_type": "code",
   "execution_count": null,
   "metadata": {},
   "outputs": [],
   "source": []
  },
  {
   "cell_type": "markdown",
   "metadata": {},
   "source": [
    "On donne ci-après le diagramme de Bode de la fonction en boucle ouverte avec correction par avance de phase.\n",
    "![Schema blocs](images/im10.PNG)\n"
   ]
  },
  {
   "cell_type": "markdown",
   "metadata": {},
   "source": [
    "#### Question 45\n",
    "Les marges de stabilité sont-elles respectées ? Conclure sur la totalité du cahier des charges."
   ]
  },
  {
   "cell_type": "code",
   "execution_count": null,
   "metadata": {},
   "outputs": [],
   "source": []
  }
 ],
 "metadata": {
  "kernelspec": {
   "display_name": "Python 3",
   "language": "python",
   "name": "python3"
  },
  "language_info": {
   "codemirror_mode": {
    "name": "ipython",
    "version": 3
   },
   "file_extension": ".py",
   "mimetype": "text/x-python",
   "name": "python",
   "nbconvert_exporter": "python",
   "pygments_lexer": "ipython3",
   "version": "3.7.4"
  }
 },
 "nbformat": 4,
 "nbformat_minor": 2
}
