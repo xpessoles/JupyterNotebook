{
 "cells": [
  {
   "cell_type": "markdown",
   "metadata": {},
   "source": [
    "## TP 12 Régression et cinétique chimique"
   ]
  },
  {
   "cell_type": "code",
   "execution_count": 1,
   "metadata": {},
   "outputs": [],
   "source": [
    "import numpy as np\n",
    "from math import exp, log\n",
    "import matplotlib.pyplot as pl"
   ]
  },
  {
   "cell_type": "markdown",
   "metadata": {},
   "source": [
    "Il est utile de fixer en préambule les différentes constantes utilisées dans le TP."
   ]
  },
  {
   "cell_type": "code",
   "execution_count": 2,
   "metadata": {},
   "outputs": [],
   "source": [
    "T = [0, 7, 18, 27, 37, 56, 102]\n",
    "C = [34.83, 32.14, 28.47, 25.74, 23.14, 18.54, 11.04]"
   ]
  },
  {
   "cell_type": "markdown",
   "metadata": {},
   "source": [
    "**Question 1**"
   ]
  },
  {
   "cell_type": "code",
   "execution_count": 3,
   "metadata": {},
   "outputs": [],
   "source": [
    "def trace_fonction(xmin,xmax,f,nom_de_fichier,lab=\"\"):\n",
    "    \"\"\"Trace la courbe de f sur [xmin,xmax]\n",
    "    Enregistre dans nom_de_fichier\"\"\"\n",
    "    pl.clf()\n",
    "    les_x = np.linspace(xmin,xmax,1000)\n",
    "    les_y = [f(t) for t in les_x]\n",
    "    pl.plot(les_x,les_y,label=lab)\n",
    "    if lab != '' :\n",
    "        pl.legend()\n",
    "    #pl.savefig(nom_de_fichier)\n",
    "    pl.show()\n",
    "    #pl.clf()"
   ]
  },
  {
   "cell_type": "markdown",
   "metadata": {},
   "source": [
    "**Question 2**"
   ]
  },
  {
   "cell_type": "code",
   "execution_count": 4,
   "metadata": {},
   "outputs": [],
   "source": [
    "def trace_ajustement(X,Y,f,nom_de_fichier,lab='Courbe d ajustement'):\n",
    "    \"\"\"Trace la courbe de f et les points (X,Y)\n",
    "    Enregistre dans nom_de_fichier\"\"\"\n",
    "    pl.clf()\n",
    "    pl.plot(X,Y, 'rx',label='Mesures expérimentales')\n",
    "    les_x = np.linspace(min(X),max(X),1000)\n",
    "    les_y = [f(t) for t in les_x]\n",
    "    pl.plot(les_x,les_y,label=lab)\n",
    "    pl.xlabel('Temps (s)')\n",
    "    pl.ylabel('Concentration (mol / L)')\n",
    "    pl.title('Évolution de la concentration en fonction du temps')\n",
    "    pl.legend()\n",
    "    #pl.savefig(nom_de_fichier)\n",
    "    pl.show()\n",
    "    #pl.clf()"
   ]
  },
  {
   "cell_type": "markdown",
   "metadata": {},
   "source": [
    "**Question 3**"
   ]
  },
  {
   "cell_type": "code",
   "execution_count": 5,
   "metadata": {},
   "outputs": [],
   "source": [
    "def L1(k):\n",
    "    \"\"\"L1(k)\"\"\"\n",
    "    S = 0\n",
    "    for i in range(len(T)) :\n",
    "        S = S + (C[i]-C[0]*exp(-k*T[i]))**2\n",
    "    return S/7"
   ]
  },
  {
   "cell_type": "markdown",
   "metadata": {},
   "source": [
    "**Question 4**\n",
    "La fonction $L^1$ est infiniment dérivable et semble bien avoir un minimum autour de $0,01$."
   ]
  },
  {
   "cell_type": "code",
   "execution_count": 6,
   "metadata": {},
   "outputs": [
    {
     "data": {
      "image/png": "[encoded data removed]",
      "text/plain": [
       "<Figure size 432x288 with 1 Axes>"
      ]
     },
     "metadata": {
      "needs_background": "light"
     },
     "output_type": "display_data"
    }
   ],
   "source": [
    "trace_fonction(0,0.12,L1,'fig_L1.png','$L^1$')"
   ]
  },
  {
   "cell_type": "markdown",
   "metadata": {},
   "source": [
    "**Question 5**\n",
    "C'est la dérivée de $L^1$ : \n",
    "$dL^1 = (L^1)' : k \\mapsto \\dfrac{2C_0}{7} \\sum\\limits_{i=0}^6 t_i (C_i-C_0 e^{-kt_i}) e^{-kt_i}$."
   ]
  },
  {
   "cell_type": "code",
   "execution_count": 7,
   "metadata": {},
   "outputs": [],
   "source": [
    "def dL1(k):\n",
    "    \"\"\"L1'(k)\"\"\"\n",
    "    S = 0\n",
    "    for i in range(len(T)) :\n",
    "        S = S + T[i] * (C[i]-C[0]*exp(-k*T[i])) * exp(-k*T[i])\n",
    "    return 2*C[0]*S / 7"
   ]
  },
  {
   "cell_type": "markdown",
   "metadata": {},
   "source": [
    "**Question 6**\n",
    "On dérive deux fois $L_1$.\n",
    "$ (L^1)'' : k \\mapsto \\dfrac{2C_0}{7}\\sum\\limits_{i=0}^6 t_i^2 (2C_0 e^{-kt_i}-C_i) e^{-kt_i}$."
   ]
  },
  {
   "cell_type": "code",
   "execution_count": 8,
   "metadata": {},
   "outputs": [],
   "source": [
    "def ddL1(k):\n",
    "    \"\"\"L1''(k)\"\"\"\n",
    "    S = 0\n",
    "    for i in range(len(T)) :\n",
    "        S = S + T[i]**2 * (2*C[0]*exp(-k*T[i]) - C[i]) * exp(-k*T[i])\n",
    "    return 2*C[0]*S / 7"
   ]
  },
  {
   "cell_type": "markdown",
   "metadata": {},
   "source": [
    "**Question 7**"
   ]
  },
  {
   "cell_type": "code",
   "execution_count": 9,
   "metadata": {},
   "outputs": [],
   "source": [
    "def newton(f,fp,x0,eps):\n",
    "    \"\"\"Zéro de f par la méthode de Newton, critère d'arret eps\n",
    "    fp : dérivée de f\n",
    "    x0 : point initial\"\"\"\n",
    "    u = x0\n",
    "    v = u - f(u)/fp(u)\n",
    "    while abs(v-u) > eps:\n",
    "        u, v = v, v - f(v)/fp(v)\n",
    "    return u"
   ]
  },
  {
   "cell_type": "markdown",
   "metadata": {},
   "source": [
    "**Question 8**"
   ]
  },
  {
   "cell_type": "code",
   "execution_count": 10,
   "metadata": {},
   "outputs": [],
   "source": [
    "def val_k1() :\n",
    "    \"\"\"Valeur de k1\"\"\"\n",
    "    return newton(dL1, ddL1, 0.01, 10**-10)\n",
    "\n",
    "k1 = val_k1()"
   ]
  },
  {
   "cell_type": "markdown",
   "metadata": {},
   "source": [
    "**Question 9**"
   ]
  },
  {
   "cell_type": "code",
   "execution_count": 11,
   "metadata": {},
   "outputs": [
    {
     "data": {
      "image/png": "[encoded data removed]",
      "text/plain": [
       "<Figure size 432x288 with 1 Axes>"
      ]
     },
     "metadata": {
      "needs_background": "light"
     },
     "output_type": "display_data"
    }
   ],
   "source": [
    "def f1(x) :\n",
    "    \"\"\"Fonction d'ajustement pour le modèle d'ordre 1\"\"\"\n",
    "    return  C[0]*exp(-k1*x)\n",
    "\n",
    "trace_ajustement(T,C,f1,'regression_ordre_1.png',\"Ajustement pour le modèle d'ordre 1\")"
   ]
  },
  {
   "cell_type": "markdown",
   "metadata": {},
   "source": [
    "**Question 10**"
   ]
  },
  {
   "cell_type": "code",
   "execution_count": 12,
   "metadata": {},
   "outputs": [],
   "source": [
    "def L2(k):\n",
    "    \"\"\"L2(k)\"\"\"\n",
    "    S = 0\n",
    "    for i in range(len(T)) :\n",
    "        S = S + (C[i]-C[0]/(C[0]*k*T[i]+1))**2\n",
    "    return S / 7   "
   ]
  },
  {
   "cell_type": "markdown",
   "metadata": {},
   "source": [
    "**Question 11**\n",
    "La fonction $L^2$ est infiniment dérivable et semble bien avoir un minimum autour de $0,001$."
   ]
  },
  {
   "cell_type": "code",
   "execution_count": 13,
   "metadata": {},
   "outputs": [
    {
     "data": {
      "image/png": "[encoded data removed]",
      "text/plain": [
       "<Figure size 432x288 with 1 Axes>"
      ]
     },
     "metadata": {
      "needs_background": "light"
     },
     "output_type": "display_data"
    }
   ],
   "source": [
    "trace_fonction(0,0.05,L2,'fig_L2.png',\"$L^2$\")"
   ]
  },
  {
   "cell_type": "markdown",
   "metadata": {},
   "source": [
    "**Question 12**\n",
    "C'est la dérivée de $L^2$ : \n",
    "$  dL^2 = (L^2)' : k \\mapsto \\dfrac{2C_0^2}{7} \\sum_{i=0}^6 t_i \\left( \\dfrac{C_i}{(1+C_0kt_i)^1} -\\dfrac{C_0}{(1+C_0kt_i)^3}\\right)$."
   ]
  },
  {
   "cell_type": "code",
   "execution_count": 14,
   "metadata": {},
   "outputs": [],
   "source": [
    "def dL2(k):\n",
    "    \"\"\"L2'(k)\"\"\"\n",
    "    S = 0\n",
    "    for i in range(len(T)) :\n",
    "        S = S + T[i] * (C[i]*C[0]*T[i]*k+C[i]-C[0]) / (C[0]*T[i]*k+1)**3\n",
    "    return  2*S*C[0]**2 / 7 "
   ]
  },
  {
   "cell_type": "markdown",
   "metadata": {},
   "source": [
    "**Question 13**"
   ]
  },
  {
   "cell_type": "code",
   "execution_count": 15,
   "metadata": {},
   "outputs": [],
   "source": [
    "def secante(f,x0,x1,eps):\n",
    "    \"\"\"Zéro de f par la méthode de la sécante\"\"\"\n",
    "    u,v = x0,x1\n",
    "    while abs(u-v) > eps : \n",
    "        p = (f(u)-f(v)) / (u-v)\n",
    "        u,v = v,u - f(u)/p\n",
    "    return u"
   ]
  },
  {
   "cell_type": "markdown",
   "metadata": {},
   "source": [
    "**Question 14**"
   ]
  },
  {
   "cell_type": "code",
   "execution_count": 16,
   "metadata": {},
   "outputs": [],
   "source": [
    "def val_k2() :\n",
    "    \"\"\"Valeur de k2\"\"\"\n",
    "    return secante(dL2,0.0005,0.0001,10**-10)\n",
    "k2 = val_k2()"
   ]
  },
  {
   "cell_type": "markdown",
   "metadata": {},
   "source": [
    "**Question 15**"
   ]
  },
  {
   "cell_type": "code",
   "execution_count": 17,
   "metadata": {},
   "outputs": [
    {
     "data": {
      "image/png": "[encoded data removed]",
      "text/plain": [
       "<Figure size 432x288 with 1 Axes>"
      ]
     },
     "metadata": {
      "needs_background": "light"
     },
     "output_type": "display_data"
    }
   ],
   "source": [
    "def f2(x) :\n",
    "    \"\"\"Fonction d'ajustement pour le modèle d'ordre 2\"\"\"\n",
    "    return  C[0]/(C[0]*k2*x+1)\n",
    "\n",
    "trace_ajustement(T,C,f2,'regression_ordre_2.png',\"Ajustement pour le modèle d'ordre 2\")"
   ]
  },
  {
   "cell_type": "markdown",
   "metadata": {},
   "source": [
    "**Question 16**"
   ]
  },
  {
   "cell_type": "code",
   "execution_count": 18,
   "metadata": {},
   "outputs": [],
   "source": [
    "def ddL2(k):\n",
    "    \"\"\"L2''(k)\"\"\"\n",
    "    S = 0\n",
    "    for i in range(len(T)) :\n",
    "        S = S + T[i]**2 * (3*C[0]-2*C[i]-2*C[i]*C[0]*T[i]*k) / (C[0]*T[i]*k+1)**4\n",
    "    return  2*C[0]**3 *S / 7\n",
    "\n",
    "def val_k2_bis() :\n",
    "    return newton(dL2, ddL2, 0.0001, 10**-10)"
   ]
  },
  {
   "cell_type": "markdown",
   "metadata": {},
   "source": [
    "La méthode de Newton est bien plus difficile à utiliser ici, si l'on se place un tout petit peu trop loin du minimum de $L^2$, alors elle ne converge pas."
   ]
  },
  {
   "cell_type": "markdown",
   "metadata": {},
   "source": [
    "**Question 17**\n",
    "Le second modèle est bien moins adapté que le premier aux données : la meilleure courbe solution coïncide bien moins aux données. De plus, la méthode de Newton y est plus difficile à appliquer (mais la celle de la sécante). "
   ]
  },
  {
   "cell_type": "markdown",
   "metadata": {},
   "source": [
    "**Question 18**\n",
    "C'est une simple fonction quadratique de coefficient dominant positif. Le minimum est atteint en \n",
    "  $-\\dfrac{\\sum_\\limits{i=0}^6 t_i \\ln\\left(\\dfrac{C_i}{C_0}\\right)}{\\sum\\limits_{i=0}^6 t_i^2}$."
   ]
  },
  {
   "cell_type": "markdown",
   "metadata": {},
   "source": [
    "**Question 19**"
   ]
  },
  {
   "cell_type": "code",
   "execution_count": 19,
   "metadata": {},
   "outputs": [],
   "source": [
    "def val_kp1():\n",
    "    \"\"\"Valeur de k1'\"\"\"\n",
    "    S1,S2 = 0,0\n",
    "    for i in range(len(T)):\n",
    "        S1 = S1 + T[i]*log(C[i]/C[0])\n",
    "        S2 = S2 + T[i]**2\n",
    "    return -S1/S2\n",
    "    \n",
    "kp1 = val_kp1()"
   ]
  },
  {
   "cell_type": "markdown",
   "metadata": {},
   "source": [
    "**Question 20**"
   ]
  },
  {
   "cell_type": "code",
   "execution_count": 20,
   "metadata": {},
   "outputs": [
    {
     "data": {
      "image/png": "[encoded data removed]",
      "text/plain": [
       "<Figure size 432x288 with 1 Axes>"
      ]
     },
     "metadata": {
      "needs_background": "light"
     },
     "output_type": "display_data"
    }
   ],
   "source": [
    "def fp1(x) :\n",
    "    \"\"\"Fonction d'ajustement pour le modèle d'ordre 1\n",
    "    Régression linéaire sur les logarithmes de C\"\"\"\n",
    "    return  C[0]*exp(-kp1*x)\n",
    "\n",
    "\n",
    "trace_ajustement(T,C,fp1,'regression_ordre_1_lin.png',\"Modèle d'ordre 1, régression linéaire\")"
   ]
  },
  {
   "cell_type": "markdown",
   "metadata": {},
   "source": [
    "**Question 21**\n",
    "La méthode de Newton permet d'optimiser directement le critère souhaité, mais on n'obtient qu'un résultat approché. \n",
    "La méthode linéaire permet d'avoir une expression exacte (on dit aussi : forme close) du paramètre, mais le paramètre obtenu ne minimise pas le critère pertinent. \n",
    "Toutefois, le paramètre donné par la régression linéaire est très proche de celui donné par la méthode de Newton. "
   ]
  },
  {
   "cell_type": "code",
   "execution_count": null,
   "metadata": {},
   "outputs": [],
   "source": []
  }
 ],
 "metadata": {
  "kernelspec": {
   "display_name": "Python 3",
   "language": "python",
   "name": "python3"
  },
  "language_info": {
   "codemirror_mode": {
    "name": "ipython",
    "version": 3
   },
   "file_extension": ".py",
   "mimetype": "text/x-python",
   "name": "python",
   "nbconvert_exporter": "python",
   "pygments_lexer": "ipython3",
   "version": "3.7.4"
  }
 },
 "nbformat": 4,
 "nbformat_minor": 2
}
