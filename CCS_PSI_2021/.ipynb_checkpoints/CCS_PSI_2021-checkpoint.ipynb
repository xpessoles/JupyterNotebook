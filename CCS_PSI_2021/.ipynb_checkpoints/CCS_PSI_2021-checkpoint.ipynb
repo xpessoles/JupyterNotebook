{
 "cells": [
  {
   "cell_type": "code",
   "execution_count": 67,
   "metadata": {},
   "outputs": [],
   "source": [
    "# Bibliothèques\n",
    "import numpy as np\n",
    "import math as m\n",
    "import matplotlib.pyplot as plt"
   ]
  },
  {
   "cell_type": "code",
   "execution_count": 68,
   "metadata": {},
   "outputs": [],
   "source": [
    "# Données \n",
    "alpha_i = m.radians(-35)\n",
    "alpha_f = m.radians(45)\n",
    "l = 25\n",
    "L = 52\n",
    "yBG = 5\n",
    "zBG = 200\n",
    "m3 = 1.25 # kg\n",
    "g = 9.81"
   ]
  },
  {
   "cell_type": "code",
   "execution_count": 69,
   "metadata": {},
   "outputs": [],
   "source": [
    "def TraceParallelogramme(alpha,zp):\n",
    "    yA = 20\n",
    "    zA = zp\n",
    "    yAp = yA\n",
    "    zAp = zA+l\n",
    "    yB = yA+L*m.cos(alpha)\n",
    "    zB = zA+L*m.sin(alpha)\n",
    "    yBp = yB\n",
    "    zBp = zB+l\n",
    "    les_y=[yBp,yAp,yA,yB,yBp]\n",
    "    les_z=[zBp,zAp,zA,zB,zBp]\n",
    "    \n",
    "    return les_y,les_z    \n",
    "\n",
    "def TracePositionAppareil(alpha,zp):\n",
    "    yA = 20\n",
    "    zA = zp\n",
    "    yAp = yA\n",
    "    zAp = zA+l\n",
    "    yB = yA+L*m.cos(alpha)\n",
    "    zB = zA+L*m.sin(alpha)\n",
    "    yBp = yB\n",
    "    zBp = zB+l\n",
    "    les_y=[yBp,yAp,yA,yB,yB,yB+yBG]\n",
    "    les_z=[zBp,zAp,zA,zB,zB+zBG,zB+zBG]\n",
    "       \n",
    "    return les_y,les_z    "
   ]
  },
  {
   "cell_type": "code",
   "execution_count": 70,
   "metadata": {},
   "outputs": [
    {
     "data": {
      "text/plain": [
       "<matplotlib.legend.Legend at 0x205b9862108>"
      ]
     },
     "execution_count": 70,
     "metadata": {},
     "output_type": "execute_result"
    },
    {
     "data": {
      "image/png": "[encoded data removed]",
      "text/plain": [
       "<Figure size 432x288 with 1 Axes>"
      ]
     },
     "metadata": {
      "needs_background": "light"
     },
     "output_type": "display_data"
    }
   ],
   "source": [
    "plt.axis(\"equal\")\n",
    "les_y,les_z = TraceParallelogramme(0,0)\n",
    "plt.plot(les_y,les_z,label=\"$\\\\alpha=0$ deg\")\n",
    "les_y,les_z = TraceParallelogramme(alpha_i,0)\n",
    "plt.plot(les_y,les_z,label=\"$\\\\alpha=$\"+str(m.degrees(alpha_i))+str(\" deg\"))\n",
    "les_y,les_z = TraceParallelogramme(alpha_f,0)\n",
    "plt.plot(les_y,les_z,label=\"$\\\\alpha=$\"+str(m.degrees(alpha_f))+str(\" deg\"))\n",
    "plt.legend()\n"
   ]
  },
  {
   "cell_type": "markdown",
   "metadata": {},
   "source": [
    "#### Question 3\n",
    "Exprimer les coordonnées du centre d’inertie $G$ dans le repère $\\mathcal{R}_0$ en fonction de l’angle $\\alpha$ et des\n",
    "paramètres géométriques du système."
   ]
  },
  {
   "cell_type": "code",
   "execution_count": 71,
   "metadata": {},
   "outputs": [
    {
     "data": {
      "text/plain": [
       "[<matplotlib.lines.Line2D at 0x205b6e37d48>]"
      ]
     },
     "execution_count": 71,
     "metadata": {},
     "output_type": "execute_result"
    },
    {
     "data": {
      "image/png": "[encoded data removed]",
      "text/plain": [
       "<Figure size 432x288 with 2 Axes>"
      ]
     },
     "metadata": {
      "needs_background": "light"
     },
     "output_type": "display_data"
    }
   ],
   "source": [
    "def calc_L(alpha):\n",
    "    \"\"\"\n",
    "    Détermine la longueur de la diagonale du parallèlogramme en fonction d'un angle alpha. \n",
    "    Cela correspond à la longueur du ressort.\n",
    "    \"\"\"\n",
    "    return np.sqrt(L*L+l*l-2*L*l*np.sin(alpha))\n",
    "\n",
    "def calc_yz_sspert(alpha):\n",
    "    \"\"\"\n",
    "    Calcul des coordonnées du point G sans perturbation\n",
    "    \"\"\"\n",
    "    Lr = calc_L(alpha)\n",
    "    yA = 20\n",
    "    y = yA+yBG+L*np.cos(alpha) \n",
    "    z = zBG+L*np.sin(alpha) \n",
    "    return np.array([y,z])\n",
    "\n",
    "# Affichage de la trajectoire du point G\n",
    "les_alpha = np.linspace(alpha_i,alpha_f,1000)\n",
    "X,Y = calc_yz_sspert(les_alpha)\n",
    "#plt.grid()\n",
    "#plt.axis(\"equal\")\n",
    "#plt.plot(X,Y)\n",
    "\n",
    "f, (ax1, ax2) = plt.subplots(1, 2, sharey=True)\n",
    "ax1.grid()\n",
    "ax1.axis(\"equal\")\n",
    "ax1.plot(X,Y)\n",
    "\n",
    "ax2.grid()\n",
    "ax2.plot(X,Y)\n",
    "ax2.axis(\"equal\")\n",
    "les_y,les_z = TracePositionAppareil(0,0)\n",
    "ax2.plot(les_y,les_z)\n",
    "les_y,les_z = TracePositionAppareil(alpha_i,0)\n",
    "ax2.plot(les_y,les_z)\n",
    "les_y,les_z = TracePositionAppareil(alpha_f,0)\n",
    "ax2.plot(les_y,les_z)\n",
    "\n"
   ]
  },
  {
   "cell_type": "markdown",
   "metadata": {},
   "source": [
    "#### Question 4\n",
    "Détemrmination de l'angle $\\beta$."
   ]
  },
  {
   "cell_type": "code",
   "execution_count": 72,
   "metadata": {},
   "outputs": [
    {
     "data": {
      "text/plain": [
       "[<matplotlib.lines.Line2D at 0x205b9819748>]"
      ]
     },
     "execution_count": 72,
     "metadata": {},
     "output_type": "execute_result"
    },
    {
     "data": {
      "image/png": "[encoded data removed]",
      "text/plain": [
       "<Figure size 432x288 with 1 Axes>"
      ]
     },
     "metadata": {
      "needs_background": "light"
     },
     "output_type": "display_data"
    }
   ],
   "source": [
    "def calc_beta(alpha):\n",
    "    return np.arctan2(L*np.sin(alpha)-l,L*np.cos(alpha))\n",
    "\n",
    "les_alpha = np.linspace(alpha_i,alpha_f,1000)\n",
    "les_beta = calc_beta(les_alpha)\n",
    "plt.plot(np.degrees(les_alpha),np.degrees(les_beta))"
   ]
  },
  {
   "cell_type": "markdown",
   "metadata": {},
   "source": [
    "#### Question 5\n",
    "Détermination de la longueur du ressort."
   ]
  },
  {
   "cell_type": "code",
   "execution_count": 73,
   "metadata": {},
   "outputs": [
    {
     "data": {
      "text/plain": [
       "[<matplotlib.lines.Line2D at 0x205b75fd188>]"
      ]
     },
     "execution_count": 73,
     "metadata": {},
     "output_type": "execute_result"
    },
    {
     "data": {
      "image/png": "[encoded data removed]",
      "text/plain": [
       "<Figure size 432x288 with 1 Axes>"
      ]
     },
     "metadata": {
      "needs_background": "light"
     },
     "output_type": "display_data"
    }
   ],
   "source": [
    "def calc_Lr(alpha):\n",
    "    return np.sqrt(L*L+l*l-2*L*l*np.sin(alpha))\n",
    "les_Lr = calc_Lr(les_alpha)\n",
    "plt.plot(np.degrees(les_alpha),les_Lr)"
   ]
  },
  {
   "cell_type": "markdown",
   "metadata": {},
   "source": [
    "#### Question 6\n",
    "Calcul de Fr."
   ]
  },
  {
   "cell_type": "code",
   "execution_count": 74,
   "metadata": {},
   "outputs": [],
   "source": [
    "def calc_Fr(alpha):\n",
    "    K=1\n",
    "    Lr0 = 100\n",
    "    return K*(calc_L(alpha)-Lr0)"
   ]
  },
  {
   "cell_type": "markdown",
   "metadata": {},
   "source": [
    "#### Question 9\n",
    "Expression de Fr."
   ]
  },
  {
   "cell_type": "code",
   "execution_count": 79,
   "metadata": {},
   "outputs": [
    {
     "data": {
      "text/plain": [
       "<matplotlib.legend.Legend at 0x205bb1fcf08>"
      ]
     },
     "execution_count": 79,
     "metadata": {},
     "output_type": "execute_result"
    },
    {
     "data": {
      "image/png": "[encoded data removed]",
      "text/plain": [
       "<Figure size 432x288 with 1 Axes>"
      ]
     },
     "metadata": {
      "needs_background": "light"
     },
     "output_type": "display_data"
    }
   ],
   "source": [
    "def calc_Fr_PFS(alpha):\n",
    "    m34 = m3+m4\n",
    "    beta = calc_beta(alpha)\n",
    "    return -m34*g*np.cos(alpha)/np.sin(alpha-beta)\n",
    "\n",
    "m4  = 0.350\n",
    "les_Fr = calc_Fr_PFS(les_alpha)\n",
    "plt.plot(np.degrees(les_alpha),les_Fr,label='$m_4 =0,35$ kg')\n",
    "\n",
    "m4  = 1.55\n",
    "les_Fr = calc_Fr_PFS(les_alpha)\n",
    "plt.plot(np.degrees(les_alpha),les_Fr,label='$m_4 =1,55$ kg')\n",
    "plt.grid()\n",
    "plt.legend()"
   ]
  },
  {
   "cell_type": "code",
   "execution_count": null,
   "metadata": {},
   "outputs": [],
   "source": []
  },
  {
   "cell_type": "code",
   "execution_count": null,
   "metadata": {},
   "outputs": [],
   "source": []
  }
 ],
 "metadata": {
  "kernelspec": {
   "display_name": "Python 3",
   "language": "python",
   "name": "python3"
  },
  "language_info": {
   "codemirror_mode": {
    "name": "ipython",
    "version": 3
   },
   "file_extension": ".py",
   "mimetype": "text/x-python",
   "name": "python",
   "nbconvert_exporter": "python",
   "pygments_lexer": "ipython3",
   "version": "3.7.4"
  }
 },
 "nbformat": 4,
 "nbformat_minor": 2
}
